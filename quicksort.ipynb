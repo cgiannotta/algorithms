{
 "cells": [
  {
   "cell_type": "code",
   "execution_count": 1,
   "metadata": {},
   "outputs": [],
   "source": [
    "import pandas as pd\n",
    "import numpy as np\n",
    "import matplotlib.pyplot as plt"
   ]
  },
  {
   "cell_type": "code",
   "execution_count": 155,
   "metadata": {},
   "outputs": [],
   "source": [
    "def load_text_file_to_array(text_fp):\n",
    "    nums = []\n",
    "    file = open(text_fp, \"r\")\n",
    "    for line in file:\n",
    "        nums.append(int(line.strip()))\n",
    "    nums = np.array(nums)\n",
    "    return nums"
   ]
  },
  {
   "cell_type": "code",
   "execution_count": 211,
   "metadata": {},
   "outputs": [
    {
     "data": {
      "text/plain": [
       "0"
      ]
     },
     "execution_count": 211,
     "metadata": {},
     "output_type": "execute_result"
    }
   ],
   "source": [
    "l = np.array([6, 1, 6])\n",
    "np.where(l==6)[0][0]"
   ]
  },
  {
   "cell_type": "code",
   "execution_count": 259,
   "metadata": {},
   "outputs": [],
   "source": [
    "def choose_pivot(arr, l_endpt_idx, r_endpt_idx, method='first'):\n",
    "#     print(f\"array in choose pivot: {arr[l_endpt_idx:r_endpt_idx+1]}\")\n",
    "    if method == 'first':\n",
    "        return l_endpt_idx\n",
    "    elif method == 'last':\n",
    "        return r_endpt_idx\n",
    "    elif method == 'median':\n",
    "#         if len(arr) % 2 == 0:\n",
    "        arr_len = r_endpt_idx - l_endpt_idx + 1\n",
    "#         print(f\"array in choose_pivot: {arr[:10]}\")\n",
    "#         print(f\"array length in choose_pivot: {arr_len}\")\n",
    "#         if arr_len == 1:\n",
    "#             print(f\"array length is 1\")\n",
    "#             return 0\n",
    "        if arr_len % 2 == 0:\n",
    "            mid_idx = arr_len // 2 - 1\n",
    "        else:\n",
    "            mid_idx = arr_len // 2\n",
    "        nums = [arr[l_endpt_idx], arr[mid_idx], arr[r_endpt_idx]]\n",
    "#         print(f\"nums in choose_pivot(): {nums}\")\n",
    "        median = np.median(nums)\n",
    "#         print(f\"median in choose_pivot(): {median}, will return {np.where(arr[l_endpt_idx:r_endpt_idx+1] == median)[0][0]}\")\n",
    "#         return int(median)\n",
    "        return np.where(arr == int(median))[0][0]\n",
    "    else:\n",
    "        raise ValueError(\"method must be first, last, or median\")"
   ]
  },
  {
   "cell_type": "code",
   "execution_count": 260,
   "metadata": {},
   "outputs": [],
   "source": [
    "def partition(arr, l_idx, r_idx):\n",
    "#     print(f\"array to partition: {arr[l_idx:r_idx]}\")\n",
    "    p = arr[l_idx] # pivot is the first element in the subarry to be partitioned\n",
    "#     print(f\"pivot={p}\")\n",
    "    i = l_idx + 1 # i is the boundary between elements greater than and less than pivot\n",
    "    for j in range(l_idx+1, r_idx): # j is boundary between looked at and not\n",
    "#         print(f\"j={j}, i={i}\")#, array={arr[l_idx:r_idx]}\n",
    "        if arr[j] < p:\n",
    "#             print(f\"{arr[j]} is less than pivot ({p}) - do work\")\n",
    "            num = arr[i]\n",
    "            arr[i] = arr[j]\n",
    "            arr[j] = num\n",
    "#             print(f\"new array: {arr[l_idx:r_idx]}\")\n",
    "            i += 1\n",
    "    new_pivot_idx = i - 1\n",
    "    swap_num = arr[new_pivot_idx]\n",
    "    arr[new_pivot_idx] = p\n",
    "    arr[l_idx] = swap_num\n",
    "#     print(f\"final array in partition: {arr[l_idx:r_idx]}, returning new pivot index {new_pivot_idx}\")\n",
    "    return new_pivot_idx"
   ]
  },
  {
   "cell_type": "code",
   "execution_count": 261,
   "metadata": {},
   "outputs": [],
   "source": [
    "def move_pivot_to_first(arr, l_endpt, pivot_idx):\n",
    "    pivot = arr[pivot_idx]\n",
    "    first = arr[l_endpt]\n",
    "    arr[l_endpt] = pivot\n",
    "    arr[pivot_idx] = first\n",
    "    return"
   ]
  },
  {
   "cell_type": "code",
   "execution_count": 262,
   "metadata": {},
   "outputs": [],
   "source": [
    "def quick_sort(arr, l_endpt, r_endpt, pivot_method):\n",
    "#     print(f\"array to sort: {arr[l_endpt:r_endpt]}\")\n",
    "#     print(f\"pivot_method: {pivot_method}\") \n",
    "#     print(f\"left: {l_endpt}, right: {r_endpt}\")\n",
    "    global comparison_cnt\n",
    "    if l_endpt >= r_endpt:\n",
    "        return\n",
    "    pivot_idx = choose_pivot(arr, l_endpt, r_endpt - 1, method=pivot_method) # chose pivot index\n",
    "#     print(f\"pivot index: {pivot_idx}, pivot={arr[pivot_idx]}\")\n",
    "    move_pivot_to_first(arr, l_endpt, pivot_idx) # move pivot to first element\n",
    "#     print(f\"pivot moved to first: {arr}\")\n",
    "    new_pivot_idx = partition(arr, l_endpt, r_endpt) # parition array around pivot\n",
    "#     print(f\"new pivot index: {new_pivot_idx}, new pivot={arr[new_pivot_idx]}\")\n",
    "    quick_sort(arr, l_endpt, new_pivot_idx, pivot_method=pivot_method)\n",
    "    new_left_len = len(arr[l_endpt:new_pivot_idx])\n",
    "    comparison_cnt += new_left_len\n",
    "    quick_sort(arr, new_pivot_idx + 1, r_endpt, pivot_method=pivot_method)\n",
    "    new_right_len = len(arr[new_pivot_idx+1:r_endpt])\n",
    "    comparison_cnt += new_right_len"
   ]
  },
  {
   "cell_type": "code",
   "execution_count": 263,
   "metadata": {},
   "outputs": [
    {
     "name": "stdout",
     "output_type": "stream",
     "text": [
      "original array: [   3    7    1    9 1000  456   72]\n",
      "final sorted array: [   1    3    7    9   72  456 1000]\n"
     ]
    }
   ],
   "source": [
    "arr = np.array([3, 7, 1, 9, 1000, 456, 72])\n",
    "# arr = np.array([4, 1, 6, 2])\n",
    "l = 0\n",
    "r = len(arr)\n",
    "comparison_cnt = 0\n",
    "method = 'median'\n",
    "print(f\"original array: {arr}\")\n",
    "quick_sort(arr, l, r, pivot_method=method)\n",
    "print(f\"final sorted array: {arr}\")"
   ]
  },
  {
   "cell_type": "code",
   "execution_count": 267,
   "metadata": {},
   "outputs": [],
   "source": [
    "fp = 'coursera_algo_nums_QuickSort.txt'\n",
    "nums = load_text_file_to_array(fp)\n",
    "fewer_nums = nums[:12]"
   ]
  },
  {
   "cell_type": "code",
   "execution_count": 268,
   "metadata": {},
   "outputs": [
    {
     "data": {
      "text/plain": [
       "10000"
      ]
     },
     "execution_count": 268,
     "metadata": {},
     "output_type": "execute_result"
    }
   ],
   "source": [
    "len(nums)"
   ]
  },
  {
   "cell_type": "code",
   "execution_count": 269,
   "metadata": {},
   "outputs": [
    {
     "name": "stdout",
     "output_type": "stream",
     "text": [
      "original array: [2148 9058 7742 3153 6324  609 7628 5469 7017  504 4092 1582 9572 1542\n",
      " 5697 2081 4218 3130 7923 9595 6558 3859 9832 3062 6788 7578 7432  479\n",
      " 8439 9079 7173 2667 2770 2655  972 4264 2014 3171 4715  345 4388 3816\n",
      " 8887 3915 3490 2327  123 4596 4307 8737 4007 6798 6551 1627 1190 4984\n",
      " 2480 3404 2027 4778 2951 2795 5002 8121 8910 9593 5254  448 6237 5565\n",
      " 1816  392 8143 9310 9293 3138 4869 6756  872 6183 3517 3513 1676 5498\n",
      " 9172 5739 6108 7538 7671 5780 8666  540 9771 6837 9341 1590 5689 1605\n",
      " 1103 5859]\n",
      "final sorted array: [  1   2   3   4   5   6   7   8   9  10  11  12  13  14  15  16  17  18\n",
      "  19  20  21  22  23  24  25  26  27  28  29  30  31  32  33  34  35  36\n",
      "  37  38  39  40  41  42  43  44  45  46  47  48  49  50  51  52  53  54\n",
      "  55  56  57  58  59  60  61  62  63  64  65  66  67  68  69  70  71  72\n",
      "  73  74  75  76  77  78  79  80  81  82  83  84  85  86  87  88  89  90\n",
      "  91  92  93  94  95  96  97  98  99 100]\n",
      "comparison count: 159894\n"
     ]
    }
   ],
   "source": [
    "l = 0\n",
    "r = len(nums)\n",
    "comparison_cnt = 0\n",
    "method = 'median'\n",
    "print(f\"original array: {nums[:100]}\")\n",
    "quick_sort(nums, l, r, pivot_method=method)\n",
    "print(f\"final sorted array: {nums[:100]}\")\n",
    "print(f\"comparison count: {comparison_cnt}\")"
   ]
  },
  {
   "cell_type": "code",
   "execution_count": 125,
   "metadata": {},
   "outputs": [
    {
     "data": {
      "text/plain": [
       "162085"
      ]
     },
     "execution_count": 125,
     "metadata": {},
     "output_type": "execute_result"
    }
   ],
   "source": [
    "comparison_cnt"
   ]
  },
  {
   "cell_type": "code",
   "execution_count": 71,
   "metadata": {},
   "outputs": [
    {
     "name": "stdout",
     "output_type": "stream",
     "text": [
      "original array: [2148 9058 7742 3153 6324  609 7628 5469 7017  504 4092 1582]\n",
      "final sorted array: [ 504  609 1582 2148 3153 4092 5469 6324 7017 7628 7742 9058]\n"
     ]
    }
   ],
   "source": [
    "l = 0\n",
    "r = len(fewer_nums)\n",
    "method = 'median'\n",
    "print(f\"original array: {fewer_nums}\")\n",
    "quick_sort(fewer_nums, l, r, pivot_method=method)\n",
    "print(f\"final sorted array: {fewer_nums}\")"
   ]
  },
  {
   "cell_type": "code",
   "execution_count": null,
   "metadata": {},
   "outputs": [],
   "source": []
  }
 ],
 "metadata": {
  "kernelspec": {
   "display_name": "Python 3",
   "language": "python",
   "name": "python3"
  },
  "language_info": {
   "codemirror_mode": {
    "name": "ipython",
    "version": 3
   },
   "file_extension": ".py",
   "mimetype": "text/x-python",
   "name": "python",
   "nbconvert_exporter": "python",
   "pygments_lexer": "ipython3",
   "version": "3.7.4"
  }
 },
 "nbformat": 4,
 "nbformat_minor": 4
}
