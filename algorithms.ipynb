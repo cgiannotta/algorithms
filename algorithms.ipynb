{
 "cells": [
  {
   "cell_type": "code",
   "execution_count": 1,
   "metadata": {},
   "outputs": [],
   "source": [
    "import pandas as pd\n",
    "import numpy as np\n",
    "import matplotlib.pyplot as plt"
   ]
  },
  {
   "cell_type": "code",
   "execution_count": 2,
   "metadata": {},
   "outputs": [],
   "source": [
    "def multiply_integers(num1, num2):\n",
    "    import time\n",
    "    start = time.time()\n",
    "    num1_list = [int(digit) for digit in str(num1)][::-1]\n",
    "    num2_list = [int(digit) for digit in str(num2)][::-1]\n",
    "    products = []\n",
    "    for i in range(len(num1_list)):\n",
    "        for j in range(len(num2_list)):\n",
    "            product = num1_list[i] * num2_list[j] * (10**i) * (10**j)\n",
    "            products.append(product)\n",
    "    final = np.sum(products)\n",
    "    end = time.time()\n",
    "    elapsed = end - start\n",
    "    print(f'multiplication took {elapsed} seconds')\n",
    "    return final"
   ]
  },
  {
   "cell_type": "code",
   "execution_count": 3,
   "metadata": {},
   "outputs": [
    {
     "name": "stdout",
     "output_type": "stream",
     "text": [
      "actual product: 8539734222673567065463550869546574495034888535765114961879601127067743044893204848617875072216249073013374895871952806582723184\n",
      "multiplication took 0.015227317810058594 seconds\n",
      "calculated product: 8539734222673567065463550869546574495034888535765114961879601127067743044893204848617875072216249073013374895871952806582723184\n"
     ]
    }
   ],
   "source": [
    "n1 = 3141592653589793238462643383279502884197169399375105820974944592\n",
    "n2 = 2718281828459045235360287471352662497757247093699959574966967627\n",
    "# n1 = 12\n",
    "# n2 = 45\n",
    "print(f'actual product: {n1 * n2}')\n",
    "print(f'calculated product: {multiply_integers(n1, n2)}')"
   ]
  },
  {
   "cell_type": "code",
   "execution_count": null,
   "metadata": {},
   "outputs": [],
   "source": []
  }
 ],
 "metadata": {
  "kernelspec": {
   "display_name": "Python 3",
   "language": "python",
   "name": "python3"
  },
  "language_info": {
   "codemirror_mode": {
    "name": "ipython",
    "version": 3
   },
   "file_extension": ".py",
   "mimetype": "text/x-python",
   "name": "python",
   "nbconvert_exporter": "python",
   "pygments_lexer": "ipython3",
   "version": "3.7.4"
  }
 },
 "nbformat": 4,
 "nbformat_minor": 4
}
